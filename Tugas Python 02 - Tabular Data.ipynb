{
 "cells": [
  {
   "cell_type": "code",
   "execution_count": 1,
   "metadata": {},
   "outputs": [],
   "source": [
    "import pandas as pd"
   ]
  },
  {
   "cell_type": "code",
   "execution_count": 25,
   "metadata": {},
   "outputs": [],
   "source": [
    "iris = pd.read_csv('https://www.stats.govt.nz/assets/Uploads/Consumers-price-index/Consumers-price-index-December-2019-quarter/Download-data/consumers-price-index-December-2019-quarter-corrections.csv')"
   ]
  },
  {
   "cell_type": "code",
   "execution_count": 26,
   "metadata": {},
   "outputs": [
    {
     "name": "stdout",
     "output_type": "stream",
     "text": [
      "  Series reference   Period  Initially published  Revised\n",
      "0    CPIQ.SE907303  2017.03          1170.192308     1172\n",
      "1    CPIQ.SE907303  2017.06          1000.000000     1000\n",
      "2    CPIQ.SE907303  2017.09          1040.384615     1021\n",
      "3    CPIQ.SE907303  2017.12          1105.000000     1111\n",
      "4    CPIQ.SE907303  2018.03          1124.000000     1117\n"
     ]
    }
   ],
   "source": [
    "print(iris.head())"
   ]
  },
  {
   "cell_type": "code",
   "execution_count": 27,
   "metadata": {},
   "outputs": [
    {
     "name": "stdout",
     "output_type": "stream",
     "text": [
      "    Series reference   Period  Initially published  Revised\n",
      "149       CPIQ.SE707  2018.09               1031.0     1030\n",
      "150       CPIQ.SE707  2018.12               1029.0     1028\n",
      "151       CPIQ.SE707  2019.03                999.0      997\n",
      "152       CPIQ.SE707  2019.06               1010.0     1009\n",
      "153       CPIQ.SE707  2019.09               1012.0     1011\n"
     ]
    }
   ],
   "source": [
    "print(iris.tail())"
   ]
  },
  {
   "cell_type": "code",
   "execution_count": 28,
   "metadata": {},
   "outputs": [
    {
     "name": "stdout",
     "output_type": "stream",
     "text": [
      "<class 'pandas.core.frame.DataFrame'>\n",
      "RangeIndex: 154 entries, 0 to 153\n",
      "Data columns (total 4 columns):\n",
      "Series reference       154 non-null object\n",
      "Period                 154 non-null float64\n",
      "Initially published    154 non-null float64\n",
      "Revised                154 non-null int64\n",
      "dtypes: float64(2), int64(1), object(1)\n",
      "memory usage: 4.9+ KB\n",
      "None\n"
     ]
    }
   ],
   "source": [
    "print(iris.info())"
   ]
  },
  {
   "cell_type": "code",
   "execution_count": 29,
   "metadata": {},
   "outputs": [
    {
     "name": "stdout",
     "output_type": "stream",
     "text": [
      "            Period  Initially published      Revised\n",
      "count   154.000000           154.000000   154.000000\n",
      "mean   2017.980000          1026.555439  1024.629870\n",
      "std       0.790097            38.244334    37.961789\n",
      "min    2017.030000           942.000000   941.000000\n",
      "25%    2017.090000          1000.000000  1000.000000\n",
      "50%    2018.060000          1020.000000  1019.500000\n",
      "75%    2019.030000          1038.500000  1035.750000\n",
      "max    2019.090000          1170.192308  1172.000000\n"
     ]
    }
   ],
   "source": [
    "print(iris.describe())"
   ]
  },
  {
   "cell_type": "code",
   "execution_count": 31,
   "metadata": {},
   "outputs": [
    {
     "name": "stdout",
     "output_type": "stream",
     "text": [
      "         Initially published      Revised\n",
      "Period                                   \n",
      "2017.03          1047.802620  1048.071429\n",
      "2017.06          1000.000000  1000.000000\n",
      "2017.09           998.235781   993.500000\n",
      "2017.12          1039.785714  1041.000000\n",
      "2018.03          1034.500000  1032.642857\n",
      "2018.06          1006.785714  1002.928571\n",
      "2018.09          1036.785714  1032.857143\n",
      "2018.12          1060.714286  1062.214286\n",
      "2019.03          1030.428571  1024.714286\n",
      "2019.06          1001.000000  1001.214286\n",
      "2019.09          1036.071429  1031.785714\n"
     ]
    }
   ],
   "source": [
    "print(iris.groupby('Period').mean())"
   ]
  },
  {
   "cell_type": "code",
   "execution_count": 32,
   "metadata": {},
   "outputs": [],
   "source": [
    "import matplotlib.pyplot as plt"
   ]
  },
  {
   "cell_type": "code",
   "execution_count": 33,
   "metadata": {},
   "outputs": [
    {
     "data": {
      "text/plain": [
       "Text(0, 0.5, 'Initially published')"
      ]
     },
     "execution_count": 33,
     "metadata": {},
     "output_type": "execute_result"
    },
    {
     "data": {
      "image/png": "[encoded data removed]",
      "text/plain": [
       "<Figure size 432x288 with 1 Axes>"
      ]
     },
     "metadata": {
      "needs_background": "light"
     },
     "output_type": "display_data"
    }
   ],
   "source": [
    "#create a figure and axis\n",
    "fig, ax = plt.subplots()\n",
    "\n",
    "# scatter the Period against the Initially published\n",
    "ax.scatter(iris['Period'], iris['Initially published'])\n",
    "# set a title and labels\n",
    "ax.set_title('Consumer Price Index')\n",
    "ax.set_xlabel('Period')\n",
    "ax.set_ylabel('Initially published')"
   ]
  },
  {
   "cell_type": "code",
   "execution_count": 40,
   "metadata": {},
   "outputs": [
    {
     "ename": "KeyError",
     "evalue": "'CPIQ.SE9TN07303'",
     "output_type": "error",
     "traceback": [
      "\u001b[1;31m---------------------------------------------------------------------------\u001b[0m",
      "\u001b[1;31mKeyError\u001b[0m                                  Traceback (most recent call last)",
      "\u001b[1;32m<ipython-input-40-ee326f385276>\u001b[0m in \u001b[0;36m<module>\u001b[1;34m\u001b[0m\n\u001b[0;32m      5\u001b[0m \u001b[1;31m# plot each data-point\u001b[0m\u001b[1;33m\u001b[0m\u001b[1;33m\u001b[0m\u001b[1;33m\u001b[0m\u001b[0m\n\u001b[0;32m      6\u001b[0m \u001b[1;32mfor\u001b[0m \u001b[0mi\u001b[0m \u001b[1;32min\u001b[0m \u001b[0mrange\u001b[0m\u001b[1;33m(\u001b[0m\u001b[0mlen\u001b[0m\u001b[1;33m(\u001b[0m\u001b[0miris\u001b[0m\u001b[1;33m[\u001b[0m\u001b[1;34m'Period'\u001b[0m\u001b[1;33m]\u001b[0m\u001b[1;33m)\u001b[0m\u001b[1;33m)\u001b[0m\u001b[1;33m:\u001b[0m\u001b[1;33m\u001b[0m\u001b[1;33m\u001b[0m\u001b[0m\n\u001b[1;32m----> 7\u001b[1;33m     \u001b[0max\u001b[0m\u001b[1;33m.\u001b[0m\u001b[0mscatter\u001b[0m\u001b[1;33m(\u001b[0m\u001b[0miris\u001b[0m\u001b[1;33m[\u001b[0m\u001b[1;34m'Period'\u001b[0m\u001b[1;33m]\u001b[0m\u001b[1;33m[\u001b[0m\u001b[0mi\u001b[0m\u001b[1;33m]\u001b[0m\u001b[1;33m,\u001b[0m \u001b[0miris\u001b[0m\u001b[1;33m[\u001b[0m\u001b[1;34m'Initially published'\u001b[0m\u001b[1;33m]\u001b[0m\u001b[1;33m[\u001b[0m\u001b[0mi\u001b[0m\u001b[1;33m]\u001b[0m\u001b[1;33m,\u001b[0m\u001b[0mcolor\u001b[0m\u001b[1;33m=\u001b[0m\u001b[0mcolors\u001b[0m\u001b[1;33m[\u001b[0m\u001b[0miris\u001b[0m\u001b[1;33m[\u001b[0m\u001b[1;34m'Series reference'\u001b[0m\u001b[1;33m]\u001b[0m\u001b[1;33m[\u001b[0m\u001b[0mi\u001b[0m\u001b[1;33m]\u001b[0m\u001b[1;33m]\u001b[0m\u001b[1;33m)\u001b[0m\u001b[1;33m\u001b[0m\u001b[1;33m\u001b[0m\u001b[0m\n\u001b[0m\u001b[0;32m      8\u001b[0m \u001b[1;31m# set a title and labels\u001b[0m\u001b[1;33m\u001b[0m\u001b[1;33m\u001b[0m\u001b[1;33m\u001b[0m\u001b[0m\n\u001b[0;32m      9\u001b[0m \u001b[0max\u001b[0m\u001b[1;33m.\u001b[0m\u001b[0mset_title\u001b[0m\u001b[1;33m(\u001b[0m\u001b[1;34m'Consumer Price Index'\u001b[0m\u001b[1;33m)\u001b[0m\u001b[1;33m\u001b[0m\u001b[1;33m\u001b[0m\u001b[0m\n",
      "\u001b[1;31mKeyError\u001b[0m: 'CPIQ.SE9TN07303'"
     ]
    },
    {
     "data": {
      "image/png": "[encoded data removed]",
      "text/plain": [
       "<Figure size 432x288 with 1 Axes>"
      ]
     },
     "metadata": {
      "needs_background": "light"
     },
     "output_type": "display_data"
    }
   ],
   "source": [
    "# create color dictionary\n",
    "colors = {'CPIQ.SE907303':'r', 'CPIQ.SE9073':'g', 'CPIQ.SE907':'b'}\n",
    "# create a figure and axis\n",
    "fig, ax = plt.subplots()\n",
    "# plot each data-point\n",
    "for i in range(len(iris['Period'])):\n",
    "    ax.scatter(iris['Period'][i], iris['Initially published'][i],color=colors[iris['Series reference'][i]])\n",
    "# set a title and labels\n",
    "ax.set_title('Consumer Price Index')\n",
    "ax.set_xlabel('Period')\n",
    "ax.set_ylabel('Initially published')"
   ]
  },
  {
   "cell_type": "code",
   "execution_count": 39,
   "metadata": {},
   "outputs": [
    {
     "data": {
      "text/plain": [
       "<matplotlib.legend.Legend at 0xcbf6ac8>"
      ]
     },
     "execution_count": 39,
     "metadata": {},
     "output_type": "execute_result"
    },
    {
     "data": {
      "image/png": "[encoded data removed]",
      "text/plain": [
       "<Figure size 432x288 with 1 Axes>"
      ]
     },
     "metadata": {
      "needs_background": "light"
     },
     "output_type": "display_data"
    }
   ],
   "source": [
    "# get columns to plot\n",
    "columns = iris.columns.drop(['Series reference'])\n",
    "# create x data\n",
    "x_data = range(0, iris.shape[0])\n",
    "# create figure and axis\n",
    "fig, ax = plt.subplots()\n",
    "# plot each column\n",
    "for column in columns:\n",
    "    ax.plot(x_data, iris[column], label=column)\n",
    "# set title and legend\n",
    "ax.set_title('Consumer Price Index')\n",
    "ax.legend()"
   ]
  },
  {
   "cell_type": "code",
   "execution_count": null,
   "metadata": {},
   "outputs": [],
   "source": []
  }
 ],
 "metadata": {
  "kernelspec": {
   "display_name": "Python 3",
   "language": "python",
   "name": "python3"
  },
  "language_info": {
   "codemirror_mode": {
    "name": "ipython",
    "version": 3
   },
   "file_extension": ".py",
   "mimetype": "text/x-python",
   "name": "python",
   "nbconvert_exporter": "python",
   "pygments_lexer": "ipython3",
   "version": "3.7.4"
  }
 },
 "nbformat": 4,
 "nbformat_minor": 2
}
